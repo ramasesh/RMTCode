{
 "cells": [
  {
   "cell_type": "code",
   "execution_count": 16,
   "metadata": {},
   "outputs": [],
   "source": [
    "import numpy as np\n",
    "import matplotlib.pyplot as plt\n",
    "from scipy import linalg as la\n",
    "from functools import reduce\n",
    "\n",
    "%matplotlib inline"
   ]
  },
  {
   "cell_type": "code",
   "execution_count": 4,
   "metadata": {},
   "outputs": [],
   "source": [
    "matrix_dims = 4\n",
    "\n",
    "H1 = np.random.randn(matrix_dims, matrix_dims)\n",
    "H2 = np.transpose(H1)\n",
    "H = H1 + H2"
   ]
  },
  {
   "cell_type": "code",
   "execution_count": 6,
   "metadata": {},
   "outputs": [],
   "source": [
    "evals, evecs = la.eig(H)"
   ]
  },
  {
   "cell_type": "code",
   "execution_count": 7,
   "metadata": {},
   "outputs": [
    {
     "data": {
      "text/plain": [
       "array([ 1.64557716+0.j, -0.55090977+0.j, -4.29907481+0.j, -2.34542613+0.j])"
      ]
     },
     "execution_count": 7,
     "metadata": {},
     "output_type": "execute_result"
    }
   ],
   "source": [
    "evals"
   ]
  },
  {
   "cell_type": "code",
   "execution_count": 8,
   "metadata": {},
   "outputs": [
    {
     "data": {
      "text/plain": [
       "array([[-0.41739248,  0.69178101,  0.3438129 ,  0.47855536],\n",
       "       [ 0.68726748,  0.22168823,  0.66299877, -0.19735848],\n",
       "       [-0.5663052 , -0.02134019,  0.37592658, -0.73315907],\n",
       "       [-0.18095674, -0.68690462,  0.54854765,  0.44103534]])"
      ]
     },
     "execution_count": 8,
     "metadata": {},
     "output_type": "execute_result"
    }
   ],
   "source": [
    "evecs"
   ]
  },
  {
   "cell_type": "code",
   "execution_count": 15,
   "metadata": {},
   "outputs": [
    {
     "data": {
      "text/plain": [
       "array([  4.44089210e-16+0.j,  -1.16573418e-15+0.j,   4.44089210e-16+0.j,\n",
       "         4.44089210e-16+0.j])"
      ]
     },
     "execution_count": 15,
     "metadata": {},
     "output_type": "execute_result"
    }
   ],
   "source": [
    "# Sanity check: are all of the eigenvalues and eigenvectors correct?\n",
    "index = 3\n",
    "np.dot(H, evecs[:,index]) - evals[index]*evecs[:,index]"
   ]
  },
  {
   "cell_type": "code",
   "execution_count": 19,
   "metadata": {},
   "outputs": [],
   "source": [
    "H_test = reduce(np.dot, [evecs, np.diag(evals), np.transpose(evecs)]) "
   ]
  },
  {
   "cell_type": "code",
   "execution_count": 20,
   "metadata": {},
   "outputs": [
    {
     "data": {
      "text/plain": [
       "array([[ -8.88178420e-16+0.j,   0.00000000e+00+0.j,   1.11022302e-16+0.j,\n",
       "         -2.22044605e-16+0.j],\n",
       "       [  0.00000000e+00+0.j,  -1.77635684e-15+0.j,  -2.22044605e-15+0.j,\n",
       "         -2.22044605e-16+0.j],\n",
       "       [  0.00000000e+00+0.j,  -2.22044605e-15+0.j,   8.88178420e-16+0.j,\n",
       "         -3.33066907e-16+0.j],\n",
       "       [  1.11022302e-16+0.j,  -2.22044605e-16+0.j,  -3.33066907e-16+0.j,\n",
       "         -1.77635684e-15+0.j]])"
      ]
     },
     "execution_count": 20,
     "metadata": {},
     "output_type": "execute_result"
    }
   ],
   "source": [
    "H_test - H"
   ]
  },
  {
   "cell_type": "markdown",
   "metadata": {},
   "source": [
    "Let's see what happens when we just change the eigenvalues but not the eigenvectors (it should be easier to change the eigenvalues, since we don't have any restriction on them, and according to the Jacobian formula, changing the eigenvectors should do nothing).  No, that's completely wrong.  You have to change everything.  \n",
    "\n",
    "So actually, what would it be if I left the eigenvectors the same and just changed the eigenvalues?  Well, strictly speaking the Jacobian of this transformation doesn't really make sense.  "
   ]
  },
  {
   "cell_type": "code",
   "execution_count": 22,
   "metadata": {},
   "outputs": [],
   "source": [
    "magnitude_of_change = 1e-3\n",
    "d_evals = np.random.randn(matrix_dims)*magnitude_of_change"
   ]
  },
  {
   "cell_type": "code",
   "execution_count": 25,
   "metadata": {},
   "outputs": [],
   "source": [
    "H_d1 = reduce(np.dot, [evecs, np.diag(evals + magnitude_of_change*np.array([1,0,0,0])), np.transpose(evecs)]) \n",
    "H_d2 = reduce(np.dot, [evecs, np.diag(evals + magnitude_of_change*np.array([0,1,0,0])), np.transpose(evecs)]) \n",
    "H_d3 = reduce(np.dot, [evecs, np.diag(evals + magnitude_of_change*np.array([0,0,1,0])), np.transpose(evecs)]) \n",
    "H_d4 = reduce(np.dot, [evecs, np.diag(evals + magnitude_of_change*np.array([0,0,0,1])), np.transpose(evecs)]) "
   ]
  },
  {
   "cell_type": "code",
   "execution_count": 26,
   "metadata": {},
   "outputs": [
    {
     "data": {
      "text/plain": [
       "array([[  1.74216485e-04+0.j,  -2.86860281e-04+0.j,   2.36371534e-04+0.j,\n",
       "          7.55299839e-05+0.j],\n",
       "       [ -2.86860281e-04+0.j,   4.72336591e-04+0.j,  -3.89203150e-04+0.j,\n",
       "         -1.24365684e-04+0.j],\n",
       "       [  2.36371534e-04+0.j,  -3.89203150e-04+0.j,   3.20701581e-04+0.j,\n",
       "          1.02476744e-04+0.j],\n",
       "       [  7.55299839e-05+0.j,  -1.24365684e-04+0.j,   1.02476744e-04+0.j,\n",
       "          3.27453425e-05+0.j]])"
      ]
     },
     "execution_count": 26,
     "metadata": {},
     "output_type": "execute_result"
    }
   ],
   "source": [
    "H_d1 - H"
   ]
  },
  {
   "cell_type": "code",
   "execution_count": null,
   "metadata": {},
   "outputs": [],
   "source": []
  }
 ],
 "metadata": {
  "kernelspec": {
   "display_name": "Python 3",
   "language": "python",
   "name": "python3"
  },
  "language_info": {
   "codemirror_mode": {
    "name": "ipython",
    "version": 3
   },
   "file_extension": ".py",
   "mimetype": "text/x-python",
   "name": "python",
   "nbconvert_exporter": "python",
   "pygments_lexer": "ipython3",
   "version": "3.6.4"
  }
 },
 "nbformat": 4,
 "nbformat_minor": 2
}
