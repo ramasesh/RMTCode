{
 "cells": [
  {
   "cell_type": "markdown",
   "metadata": {},
   "source": [
    "This notebook consists of exercises in the book Introduction to Random Matrices, by Livan et al."
   ]
  },
  {
   "cell_type": "code",
   "execution_count": 2,
   "metadata": {},
   "outputs": [],
   "source": [
    "import numpy as np\n",
    "import matplotlib.pyplot as plt\n",
    "%matplotlib inline"
   ]
  },
  {
   "cell_type": "code",
   "execution_count": 3,
   "metadata": {},
   "outputs": [],
   "source": [
    "## intro exercises\n",
    "\n",
    "# make our first random matrix:\n",
    "rand_mat = np.random.randn(6,6)"
   ]
  },
  {
   "cell_type": "code",
   "execution_count": 5,
   "metadata": {},
   "outputs": [
    {
     "data": {
      "text/plain": [
       "array([[-0.546,  0.784,  0.139, -0.412, -0.82 , -0.913],\n",
       "       [-0.939,  1.173,  0.337, -0.103, -1.004,  0.347],\n",
       "       [-0.534, -1.591, -0.033,  1.009,  0.57 , -0.115],\n",
       "       [-0.325,  0.602, -0.18 , -1.245, -0.051,  0.57 ],\n",
       "       [-0.985,  1.66 , -0.534, -0.05 , -2.844, -1.103],\n",
       "       [ 0.054, -0.23 ,  1.371, -0.41 , -0.15 , -0.668]])"
      ]
     },
     "execution_count": 5,
     "metadata": {},
     "output_type": "execute_result"
    }
   ],
   "source": [
    "np.round(rand_mat,3)"
   ]
  },
  {
   "cell_type": "code",
   "execution_count": 6,
   "metadata": {},
   "outputs": [],
   "source": [
    "# let's look at the eigenvalues\n",
    "evals, evecs = np.linalg.eig(rand_mat)"
   ]
  },
  {
   "cell_type": "code",
   "execution_count": 7,
   "metadata": {},
   "outputs": [
    {
     "data": {
      "text/plain": [
       "array([ 0.53166474+1.16956602j,  0.53166474-1.16956602j,\n",
       "       -2.67988814+0.j        , -0.73432388+0.84794491j,\n",
       "       -0.73432388-0.84794491j, -1.07732676+0.j        ])"
      ]
     },
     "execution_count": 7,
     "metadata": {},
     "output_type": "execute_result"
    }
   ],
   "source": [
    "evals"
   ]
  },
  {
   "cell_type": "code",
   "execution_count": 9,
   "metadata": {},
   "outputs": [],
   "source": [
    "# as we see, they are complex.\n",
    "# but now let's symmetrize, and we can make the eigenvalues real"
   ]
  },
  {
   "cell_type": "code",
   "execution_count": 10,
   "metadata": {},
   "outputs": [],
   "source": [
    "symmetrized_rand_mat = rand_mat + np.transpose(rand_mat)\n",
    "\n",
    "sym_evals, sym_evecs = np.linalg.eig(symmetrized_rand_mat)"
   ]
  },
  {
   "cell_type": "code",
   "execution_count": 11,
   "metadata": {},
   "outputs": [
    {
     "data": {
      "text/plain": [
       "array([-6.7961172 ,  2.97829938,  1.0533596 , -0.8208007 , -2.94706165,\n",
       "       -1.79274582])"
      ]
     },
     "execution_count": 11,
     "metadata": {},
     "output_type": "execute_result"
    }
   ],
   "source": [
    "sym_evals"
   ]
  },
  {
   "cell_type": "code",
   "execution_count": 38,
   "metadata": {},
   "outputs": [],
   "source": [
    "# now let's see what the distribution of eigenvalues of this matrix looks like\n",
    "\n",
    "def rand_eigenvalues(dimension, symmetrized = True, ensemble = 'GOE'):\n",
    "    # returns the eigenvalues of a random matrix (standard Gaussian) of size dimension by dimension.  \n",
    "    # If (default) the flag 'symmetrized' is set to True, the random matrix is symmetrized first\n",
    "    \n",
    "    if ensemble=='GOE':\n",
    "        rand_mat = np.random.randn(dimension,dimension)\n",
    "    elif ensemble == 'GUE':\n",
    "        rand_mat = np.random.randn(dimension, dimension) + 1j*np.random.randn(dimension, dimension)\n",
    "    \n",
    "    if symmetrized:\n",
    "        rand_mat = rand_mat + np.conj(np.transpose(rand_mat))\n",
    "        \n",
    "    evals, evecs = np.linalg.eig(rand_mat)\n",
    "    return sorted(evals)\n",
    "    "
   ]
  },
  {
   "cell_type": "code",
   "execution_count": 44,
   "metadata": {},
   "outputs": [],
   "source": [
    "# we construct the distribution by sampling\n",
    "\n",
    "nRuns = 10000\n",
    "matrix_dimension = 6\n",
    "\n",
    "eigenvalue_array = np.zeros(shape = (nRuns, matrix_dimension))\n",
    "\n",
    "symmetrized = True\n",
    "\n",
    "for run in range(nRuns):\n",
    "    eigenvalue_array[run,:] = rand_eigenvalues(matrix_dimension, symmetrized, ensemble = 'GOE')\n",
    "    "
   ]
  },
  {
   "cell_type": "code",
   "execution_count": 45,
   "metadata": {},
   "outputs": [
    {
     "data": {
      "text/plain": [
       "[<matplotlib.lines.Line2D at 0x11aa448d0>]"
      ]
     },
     "execution_count": 45,
     "metadata": {},
     "output_type": "execute_result"
    },
    {
     "data": {
      "image/png": "[encoded data removed]",
      "text/plain": [
       "<matplotlib.figure.Figure at 0x11aa44fd0>"
      ]
     },
     "metadata": {},
     "output_type": "display_data"
    }
   ],
   "source": [
    "plt.hist(eigenvalue_array.flatten(), bins = 100 );\n",
    "plt.plot(x,y*len(eigenvalue_array.flatten())/6)"
   ]
  },
  {
   "cell_type": "code",
   "execution_count": 36,
   "metadata": {},
   "outputs": [],
   "source": [
    "x = np.linspace(-10,10,100)\n",
    "std = np.sqrt(np.var(eigenvalue_array.flatten()))\n",
    "y = np.exp(-np.power(x,2)/(2*std**2))/np.sqrt(2*np.pi*std**2)"
   ]
  },
  {
   "cell_type": "code",
   "execution_count": 43,
   "metadata": {},
   "outputs": [
    {
     "data": {
      "text/plain": [
       "[(-7.4244316425322214-7.4360843570071226e-16j),\n",
       " (-3.8487184412061617-4.218524646094745e-16j),\n",
       " (-1.1290868299396977+1.8688160270159009e-17j),\n",
       " (2.385802146735152+6.238221896568565e-17j),\n",
       " (4.329621363664093-3.2353798764785565e-16j),\n",
       " (6.1315405158466767+1.8668318163452547e-16j)]"
      ]
     },
     "execution_count": 43,
     "metadata": {},
     "output_type": "execute_result"
    }
   ],
   "source": [
    "rand_eigenvalues(dimension=6, ensemble = 'GUE')"
   ]
  },
  {
   "cell_type": "code",
   "execution_count": null,
   "metadata": {},
   "outputs": [],
   "source": []
  }
 ],
 "metadata": {
  "kernelspec": {
   "display_name": "Python 2",
   "language": "python",
   "name": "python2"
  },
  "language_info": {
   "codemirror_mode": {
    "name": "ipython",
    "version": 2
   },
   "file_extension": ".py",
   "mimetype": "text/x-python",
   "name": "python",
   "nbconvert_exporter": "python",
   "pygments_lexer": "ipython2",
   "version": "2.7.14"
  }
 },
 "nbformat": 4,
 "nbformat_minor": 2
}
